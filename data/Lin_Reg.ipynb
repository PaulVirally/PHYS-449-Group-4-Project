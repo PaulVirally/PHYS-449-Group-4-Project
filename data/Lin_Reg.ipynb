{
 "cells": [
  {
   "cell_type": "code",
   "execution_count": 113,
   "metadata": {
    "scrolled": true
   },
   "outputs": [
    {
     "name": "stdout",
     "output_type": "stream",
     "text": [
      "X = [[1.0000 14.0000 20.0000]\n",
      " [1.0000 16.0000 3.0000]\n",
      " [1.0000 24.0000 30.0000]\n",
      " [1.0000 11.0000 62.0000]\n",
      " [1.0000 30.0000 -4.0000]]\n",
      "y = [[ 69]\n",
      " [ -1]\n",
      " [ 99]\n",
      " [240]\n",
      " [-43]]\n"
     ]
    }
   ],
   "source": [
    "\n",
    "import numpy as np\n",
    "\n",
    "\n",
    "#.in files\n",
    "X = np.array([[14,20],[16,3],[24,30],[11,62],[30,-4]])\n",
    "pwrZ = np.ones((len(X),1))\n",
    "X = np.hstack((pwrZ,X))\n",
    "y = np.array([[69],[-1],[99],[240],[-43]])\n",
    "\n",
    "print(\"X =\",X)\n",
    "print(\"y =\",y)"
   ]
  },
  {
   "cell_type": "code",
   "execution_count": 110,
   "metadata": {},
   "outputs": [
    {
     "name": "stdout",
     "output_type": "stream",
     "text": [
      "[[3.0000]\n",
      " [-1.0000]\n",
      " [4.0000]]\n"
     ]
    },
    {
     "data": {
      "text/plain": [
       "array([[3.0000],\n",
       "       [-1.0000],\n",
       "       [4.0000]])"
      ]
     },
     "execution_count": 110,
     "metadata": {},
     "output_type": "execute_result"
    }
   ],
   "source": [
    "def Analytical(X,y):\n",
    "    XT = np.transpose(X)\n",
    "    Xinv = np.linalg.inv(XT.dot(X))\n",
    "    W = (Xinv.dot(XT)).dot(y)\n",
    "    float_formatter = \"{:.4f}\".format\n",
    "    np.set_printoptions(formatter={'float_kind':float_formatter})\n",
    "    print(W)\n",
    "    return(W)\n",
    "    \n",
    "Analytical(X,y)"
   ]
  },
  {
   "cell_type": "code",
   "execution_count": 111,
   "metadata": {
    "scrolled": true
   },
   "outputs": [],
   "source": [
    "#Json files\n",
    "#number of iterations\n",
    "T = 100000\n",
    "#learning rate\n",
    "Lrate = 0.0001"
   ]
  },
  {
   "cell_type": "code",
   "execution_count": 112,
   "metadata": {
    "scrolled": true
   },
   "outputs": [
    {
     "name": "stdout",
     "output_type": "stream",
     "text": [
      "[[1.7745]\n",
      " [-0.9521]\n",
      " [4.0114]]\n"
     ]
    },
    {
     "data": {
      "text/plain": [
       "array([[1.7745],\n",
       "       [-0.9521],\n",
       "       [4.0114]])"
      ]
     },
     "execution_count": 112,
     "metadata": {},
     "output_type": "execute_result"
    }
   ],
   "source": [
    "def GD(iters, rate, XG, yG, guess = ([[1],[1],[1]])):\n",
    "    w = guess\n",
    "    N = yG.shape[0]\n",
    "    \n",
    "    for _ in range(iters):\n",
    "        temp = XG.dot(w)-yG\n",
    "        temp = np.dot(X.T, temp)\n",
    "        w = w-((rate/N)*temp)\n",
    "    \n",
    "    float_formatter = \"{:.4f}\".format\n",
    "    np.set_printoptions(formatter={'float_kind':float_formatter})\n",
    "    print(w)\n",
    "    return w\n",
    "\n",
    "GD(T,Lrate,X,y)"
   ]
  },
  {
   "cell_type": "code",
   "execution_count": null,
   "metadata": {},
   "outputs": [],
   "source": []
  },
  {
   "cell_type": "code",
   "execution_count": null,
   "metadata": {},
   "outputs": [],
   "source": []
  },
  {
   "cell_type": "code",
   "execution_count": null,
   "metadata": {},
   "outputs": [],
   "source": []
  }
 ],
 "metadata": {
  "kernelspec": {
   "display_name": "Python 3",
   "language": "python",
   "name": "python3"
  },
  "language_info": {
   "codemirror_mode": {
    "name": "ipython",
    "version": 3
   },
   "file_extension": ".py",
   "mimetype": "text/x-python",
   "name": "python",
   "nbconvert_exporter": "python",
   "pygments_lexer": "ipython3",
   "version": "3.8.3"
  }
 },
 "nbformat": 4,
 "nbformat_minor": 4
}
