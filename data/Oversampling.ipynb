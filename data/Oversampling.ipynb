{
 "cells": [
  {
   "cell_type": "code",
   "execution_count": 1,
   "metadata": {},
   "outputs": [],
   "source": [
    "from astropy.io import fits\n",
    "from astropy.table import Table\n",
    "import random, os\n",
    "import numpy as np"
   ]
  },
  {
   "cell_type": "code",
   "execution_count": 24,
   "metadata": {},
   "outputs": [],
   "source": [
    "# with fits.open('gll_psc_v16.fit') as hdu:\n",
    "#     FGL3 = Table(hdu[1].data)\n",
    "#     headers = hdu[0].header\n",
    "#     cols = hdu[1].columns\n",
    "#     data_3FGL = hdu[1].data\n",
    " \n",
    "# cols.info()\n",
    "# print(FGL3)\n",
    "# # print(data_3FGL[0][1])\n",
    "# # print(data_3FGL['Source_Name'])\n",
    "# # print(data_3FGL[0])\n",
    "# #print(data_3FGL[2]['CLASS1'])\n",
    "# pulsars = []\n",
    "# agns = []\n",
    "# others = []\n",
    "# unclass = []\n",
    "# for i in range(len(data_3FGL)): #need to find out which classes count for AGNs and pulsars\n",
    "#     #pulsars (classification labels in 3FGL: PSR, psr)\n",
    "#     if data_3FGL[i]['CLASS1'] == 'PSR' or data_3FGL[i]['CLASS1'] == 'psr':\n",
    "#         pulsars.append(data_3FGL[i])\n",
    "#     #AGNs (classification labels in the 3FGL catalog: agn, FSRQ, fsrq, BLL, bll, BCU, bcu, RDG, rdg, NLSY1, nlsy1, ssrq, and sey)\n",
    "#     elif data_3FGL[i]['CLASS1'] == 'agn' or data_3FGL[i]['CLASS1'] == 'FSRQ' or data_3FGL[i]['CLASS1'] == 'fsrq' or data_3FGL[i]['CLASS1'] == 'BLL' or data_3FGL[i]['CLASS1'] == 'bll' or data_3FGL[i]['CLASS1'] == 'BCU' or data_3FGL[i]['CLASS1'] == 'bcu' or data_3FGL[i]['CLASS1'] == 'RDG' or data_3FGL[i]['CLASS1'] == 'rdg' or data_3FGL[i]['CLASS1'] == 'NLSY1' or data_3FGL[i]['CLASS1'] == 'nlsy1' or data_3FGL[i]['CLASS1'] == 'ssrq' or data_3FGL[i]['CLASS1'] == 'sey':\n",
    "#         agns.append(data_3FGL[i])\n",
    "#     elif data_3FGL[i]['CLASS1'] == '':\n",
    "#         others.append(data_3FGL[i])\n",
    "#     else:\n",
    "#         unclass.append(data_3FGL[i])\n"
   ]
  },
  {
   "cell_type": "code",
   "execution_count": 2,
   "metadata": {},
   "outputs": [],
   "source": [
    "hdul_3fgl = fits.open('gll_psc_v16.fit') #add file directory data/\n",
    "\n",
    "classes = hdul_3fgl[1].data['CLASS1']\n",
    "agn_classes = ['psr  ', 'agn  ', 'FSRQ ', 'fsrq ', 'BLL  ', 'bll  ', 'BCU  ', 'bcu  ', 'RDG  ', 'rdg  ', 'NLSY1', 'nlsy1', 'ssrq ', 'sey  ']\n",
    "pulsar_classes = ['PSR  ', 'psr  ']\n",
    "no_class = '     '\n",
    "agn_mask = np.isin(classes, agn_classes)\n",
    "pulsar_mask = np.isin(classes, pulsar_classes)\n",
    "noclass_mask = classes == no_class\n",
    "bad_data_mask = hdul_3fgl[1].data['Signif_Curve'] == 0.0 # Causes ln(0.0)"
   ]
  },
  {
   "cell_type": "code",
   "execution_count": 53,
   "metadata": {},
   "outputs": [
    {
     "name": "stdout",
     "output_type": "stream",
     "text": [
      "3034\n",
      "1601\n",
      "4635\n"
     ]
    }
   ],
   "source": [
    "oversample = sum(agn_mask) - sum(pulsar_mask)\n",
    "\n",
    "duplicated = []\n",
    "for i in range(classes.size):\n",
    "    duplicated.append(hdul_3fgl[1].data[i])\n",
    "    \n",
    "# pulsars = []\n",
    "# for i in range(classes.size):\n",
    "#     #pulsars (classification labels in 3FGL: PSR, psr)\n",
    "#     if hdul_3fgl[1].data[i]['CLASS1'] == 'PSR' or data_3FGL[i]['CLASS1'] == 'psr':\n",
    "#         pulsars.append(data_3FGL[i])\n",
    "\n",
    "pulsars = hdul_3fgl[1].data[pulsar_mask & ~bad_data_mask]\n",
    "    \n",
    "for i in range(oversample):\n",
    "    duplicated.append(random.choice(pulsars))\n",
    "    \n",
    "# duplicated = np.array(duplicated)\n",
    "    \n",
    "# print(overfit)\n",
    "# print(len(data_3FGL))\n",
    "# print(len(pulsars))\n",
    "# print(len(agns))\n",
    "# print(len(over_3FGL))\n",
    "print(classes.size)\n",
    "print(oversample)\n",
    "print(len(duplicated))"
   ]
  },
  {
   "cell_type": "code",
   "execution_count": 3,
   "metadata": {
    "scrolled": true
   },
   "outputs": [
    {
     "name": "stdout",
     "output_type": "stream",
     "text": [
      "5\n"
     ]
    }
   ],
   "source": [
    "oversample = sum(agn_mask) - sum(pulsar_mask)\n",
    "\n",
    "nrows1 = hdul_3fgl[1].data.shape[0]\n",
    "# nrows1 = data.shape[0]\n",
    "nrows = nrows1 + oversample\n",
    "hdu = fits.BinTableHDU.from_columns(hdul_3fgl[1].columns, nrows=nrows)\n",
    "\n",
    "pulsars = hdul_3fgl[1].data[pulsar_mask & ~bad_data_mask]\n",
    "\n",
    "for colname in hdul_3fgl[1].columns.names:\n",
    "    hdu.data[colname][nrows1:] = random.choice(pulsars[colname])\n",
    "\n",
    "\n",
    "# try:\n",
    "#     hdul_v2.close()\n",
    "#     os.remove('temptable.fits')\n",
    "# except:\n",
    "#     print()\n",
    "#hdul_v2.close()\n",
    "hdu.writeto('temptable.fits')\n",
    "hdul_v2 = fits.open('temptable.fits')\n",
    "\n",
    "classes = hdul_v2[1].data['CLASS1']\n",
    "agn_mask = np.isin(classes, agn_classes)\n",
    "pulsar_mask = np.isin(classes, pulsar_classes)\n",
    "noclass_mask = classes == no_class\n",
    "bad_data_mask = hdul_v2[1].data['Signif_Curve'] == 0.0\n",
    "\n",
    "data = hdul_v2[1].data[(agn_mask | pulsar_mask) & ~bad_data_mask] # data is both pulsars and AGNs\n",
    "pulsars = hdul_v2[1].data[pulsar_mask & ~bad_data_mask]\n",
    "agns = hdul_v2[1].data[agn_mask & ~bad_data_mask]\n",
    "\n",
    "# for i in range(oversample):\n",
    "#     data.add_row(np.random.choice(pulsars))\n",
    "\n",
    "\n",
    "\n",
    "# print(classes.size)\n",
    "# print(oversample)"
   ]
  },
  {
   "cell_type": "code",
   "execution_count": 4,
   "metadata": {},
   "outputs": [],
   "source": [
    "# The easy ones\n",
    "glat = data['GLAT']\n",
    "glon = data['GLON']\n",
    "ln_energy_flux100 = np.log(data['Energy_Flux100'])\n",
    "ln_unc_energy_flux100 = np.log(data['Unc_Energy_Flux100'])\n",
    "ln_signif_curve = np.log(data['Signif_Curve'])\n",
    "ln_var_index = np.log(data['Variability_Index'])\n",
    "\n",
    "# Hardness ratios\n",
    "ef1 = data['Flux100_300']\n",
    "ef2 = data['Flux300_1000']\n",
    "ef3 = data['Flux1000_3000']\n",
    "ef4 = data['Flux3000_10000']\n",
    "ef5 = data['Flux10000_100000']\n",
    "hr12 = (ef2 - ef1) / (ef2 + ef1)\n",
    "hr23 = (ef3 - ef2) / (ef3 + ef2)\n",
    "hr34 = (ef4 - ef3) / (ef4 + ef3)\n",
    "hr45 = (ef5 - ef4) / (ef5 + ef4)\n",
    "\n",
    "# 500 MeV index\n",
    "alpha = data['Spectral_Index']\n",
    "beta = data['beta']\n",
    "gamma = data['Spectral_Index']\n",
    "b = data['Exp_Index']\n",
    "E_c = data['Cutoff'] # In MeV\n",
    "E_0 = data['Pivot_Energy'] # In MeV\n",
    "mev_500_index = np.zeros(data.shape)\n",
    "for i, point in enumerate(data):\n",
    "    if point['SpectrumType'] in ['PowerLaw', 'PLExpCutoff', 'PLSuperExpCutoff']:\n",
    "        if b[i] == float('-inf'):\n",
    "            b[i] = 1\n",
    "        mev_500_index[i] = gamma[i] + b[i] * (500 / E_c[i])**b[i]\n",
    "    else:\n",
    "        mev_500_index[i] = alpha[i] + 2*beta[i] * np.log(500 / E_0[i])\n"
   ]
  },
  {
   "cell_type": "code",
   "execution_count": 5,
   "metadata": {},
   "outputs": [
    {
     "ename": "PermissionError",
     "evalue": "[WinError 32] The process cannot access the file because it is being used by another process: 'temptable.fits'",
     "output_type": "error",
     "traceback": [
      "\u001b[1;31m---------------------------------------------------------------------------\u001b[0m",
      "\u001b[1;31mPermissionError\u001b[0m                           Traceback (most recent call last)",
      "\u001b[1;32m<ipython-input-5-bd4ff2f486b1>\u001b[0m in \u001b[0;36m<module>\u001b[1;34m\u001b[0m\n\u001b[0;32m      4\u001b[0m \u001b[1;33m\u001b[0m\u001b[0m\n\u001b[0;32m      5\u001b[0m \u001b[0mhdul_v2\u001b[0m\u001b[1;33m.\u001b[0m\u001b[0mclose\u001b[0m\u001b[1;33m(\u001b[0m\u001b[1;33m)\u001b[0m\u001b[1;33m\u001b[0m\u001b[1;33m\u001b[0m\u001b[0m\n\u001b[1;32m----> 6\u001b[1;33m \u001b[0mos\u001b[0m\u001b[1;33m.\u001b[0m\u001b[0mremove\u001b[0m\u001b[1;33m(\u001b[0m\u001b[1;34m'temptable.fits'\u001b[0m\u001b[1;33m)\u001b[0m\u001b[1;33m\u001b[0m\u001b[1;33m\u001b[0m\u001b[0m\n\u001b[0m",
      "\u001b[1;31mPermissionError\u001b[0m: [WinError 32] The process cannot access the file because it is being used by another process: 'temptable.fits'"
     ]
    }
   ],
   "source": [
    "in_data = np.vstack((glat, glon, ln_energy_flux100, ln_unc_energy_flux100, ln_signif_curve, ln_var_index, hr12, hr23, hr34, hr45, mev_500_index))\n",
    "out_data = np.isin(data['CLASS1'], agn_classes).astype(float)\n",
    "np.savez_compressed('3fgl_over_data.npz', in_data=in_data, out_data=out_data)\n",
    "\n",
    "hdul_v2.close()\n",
    "os.remove('temptable.fits')"
   ]
  },
  {
   "cell_type": "code",
   "execution_count": null,
   "metadata": {},
   "outputs": [],
   "source": []
  }
 ],
 "metadata": {
  "kernelspec": {
   "display_name": "Python 3",
   "language": "python",
   "name": "python3"
  },
  "language_info": {
   "codemirror_mode": {
    "name": "ipython",
    "version": 3
   },
   "file_extension": ".py",
   "mimetype": "text/x-python",
   "name": "python",
   "nbconvert_exporter": "python",
   "pygments_lexer": "ipython3",
   "version": "3.8.3"
  }
 },
 "nbformat": 4,
 "nbformat_minor": 4
}
