{
 "cells": [
  {
   "cell_type": "code",
   "execution_count": 15,
   "metadata": {},
   "outputs": [],
   "source": [
    "from astropy.io import fits\n",
    "from astropy.table import Table\n",
    "import random\n",
    "import numpy as np"
   ]
  },
  {
   "cell_type": "code",
   "execution_count": 24,
   "metadata": {},
   "outputs": [],
   "source": [
    "# with fits.open('gll_psc_v16.fit') as hdu:\n",
    "#     FGL3 = Table(hdu[1].data)\n",
    "#     headers = hdu[0].header\n",
    "#     cols = hdu[1].columns\n",
    "#     data_3FGL = hdu[1].data\n",
    " \n",
    "# cols.info()\n",
    "# print(FGL3)\n",
    "# # print(data_3FGL[0][1])\n",
    "# # print(data_3FGL['Source_Name'])\n",
    "# # print(data_3FGL[0])\n",
    "# #print(data_3FGL[2]['CLASS1'])\n",
    "# pulsars = []\n",
    "# agns = []\n",
    "# others = []\n",
    "# unclass = []\n",
    "# for i in range(len(data_3FGL)): #need to find out which classes count for AGNs and pulsars\n",
    "#     #pulsars (classification labels in 3FGL: PSR, psr)\n",
    "#     if data_3FGL[i]['CLASS1'] == 'PSR' or data_3FGL[i]['CLASS1'] == 'psr':\n",
    "#         pulsars.append(data_3FGL[i])\n",
    "#     #AGNs (classification labels in the 3FGL catalog: agn, FSRQ, fsrq, BLL, bll, BCU, bcu, RDG, rdg, NLSY1, nlsy1, ssrq, and sey)\n",
    "#     elif data_3FGL[i]['CLASS1'] == 'agn' or data_3FGL[i]['CLASS1'] == 'FSRQ' or data_3FGL[i]['CLASS1'] == 'fsrq' or data_3FGL[i]['CLASS1'] == 'BLL' or data_3FGL[i]['CLASS1'] == 'bll' or data_3FGL[i]['CLASS1'] == 'BCU' or data_3FGL[i]['CLASS1'] == 'bcu' or data_3FGL[i]['CLASS1'] == 'RDG' or data_3FGL[i]['CLASS1'] == 'rdg' or data_3FGL[i]['CLASS1'] == 'NLSY1' or data_3FGL[i]['CLASS1'] == 'nlsy1' or data_3FGL[i]['CLASS1'] == 'ssrq' or data_3FGL[i]['CLASS1'] == 'sey':\n",
    "#         agns.append(data_3FGL[i])\n",
    "#     elif data_3FGL[i]['CLASS1'] == '':\n",
    "#         others.append(data_3FGL[i])\n",
    "#     else:\n",
    "#         unclass.append(data_3FGL[i])\n"
   ]
  },
  {
   "cell_type": "code",
   "execution_count": 27,
   "metadata": {},
   "outputs": [
    {
     "name": "stdout",
     "output_type": "stream",
     "text": [
      "[False False False ...  True  True  True]\n"
     ]
    }
   ],
   "source": [
    "hdul_3fgl = fits.open('gll_psc_v16.fit') #add file directory data/\n",
    "\n",
    "classes = hdul_3fgl[1].data['CLASS1']\n",
    "agn_classes = ['psr  ', 'agn  ', 'FSRQ ', 'fsrq ', 'BLL  ', 'bll  ', 'BCU  ', 'bcu  ', 'RDG  ', 'rdg  ', 'NLSY1', 'nlsy1', 'ssrq ', 'sey  ']\n",
    "pulsar_classes = ['PSR  ', 'psr  ']\n",
    "no_class = '     '\n",
    "agn_mask = np.isin(classes, agn_classes)\n",
    "pulsar_mask = np.isin(classes, pulsar_classes)\n",
    "noclass_mask = classes == no_class"
   ]
  },
  {
   "cell_type": "code",
   "execution_count": 46,
   "metadata": {},
   "outputs": [
    {
     "name": "stdout",
     "output_type": "stream",
     "text": [
      "3034\n",
      "1601\n",
      "4635\n"
     ]
    }
   ],
   "source": [
    "oversample = sum(agn_mask) - sum(pulsar_mask)\n",
    "\n",
    "duplicated = []\n",
    "for i in range(classes.size):\n",
    "    duplicated.append(hdul_3fgl[1].data[i])\n",
    "    \n",
    "pulsars = []\n",
    "for i in range(classes.size):\n",
    "    #pulsars (classification labels in 3FGL: PSR, psr)\n",
    "    if hdul_3fgl[1].data[i]['CLASS1'] == 'PSR' or data_3FGL[i]['CLASS1'] == 'psr':\n",
    "        pulsars.append(data_3FGL[i])\n",
    "    \n",
    "for i in range(oversample):\n",
    "    duplicated.append(random.choice(pulsars))\n",
    "    \n",
    "duplicated = np.array(duplicated)\n",
    "    \n",
    "# print(overfit)\n",
    "# print(len(data_3FGL))\n",
    "# print(len(pulsars))\n",
    "# print(len(agns))\n",
    "# print(len(over_3FGL))\n",
    "print(classes.size)\n",
    "print(oversample)\n",
    "print(len(duplicated))"
   ]
  },
  {
   "cell_type": "code",
   "execution_count": 47,
   "metadata": {},
   "outputs": [],
   "source": []
  },
  {
   "cell_type": "code",
   "execution_count": null,
   "metadata": {},
   "outputs": [],
   "source": []
  }
 ],
 "metadata": {
  "kernelspec": {
   "display_name": "Python 3",
   "language": "python",
   "name": "python3"
  },
  "language_info": {
   "codemirror_mode": {
    "name": "ipython",
    "version": 3
   },
   "file_extension": ".py",
   "mimetype": "text/x-python",
   "name": "python",
   "nbconvert_exporter": "python",
   "pygments_lexer": "ipython3",
   "version": "3.8.3"
  }
 },
 "nbformat": 4,
 "nbformat_minor": 4
}
