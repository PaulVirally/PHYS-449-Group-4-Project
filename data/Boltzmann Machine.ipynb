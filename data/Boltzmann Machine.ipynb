{
 "cells": [
  {
   "cell_type": "code",
   "execution_count": 50,
   "metadata": {},
   "outputs": [],
   "source": [
    "import numpy as np\n",
    "import torch, argparse, json\n",
    "import torch.nn as nn\n",
    "import torch.nn.functional as func\n",
    "import torch.optim as optim\n",
    "import torch.autograd as autograd\n",
    "import random\n",
    "\n",
    "learning_rate = 0.01\n",
    "epochs = 100\n",
    "display_epochs = 10\n",
    "test_percent = 10 #percentage out of 100\n",
    "batch_size = 50"
   ]
  },
  {
   "cell_type": "code",
   "execution_count": 51,
   "metadata": {},
   "outputs": [
    {
     "name": "stdout",
     "output_type": "stream",
     "text": [
      "[ 1. -1.  1.  1.]\n"
     ]
    }
   ],
   "source": [
    "#Converts raw data into usable integer array\n",
    "data_raw = open(\"data\\in.txt\",\"r\")\n",
    "data = []\n",
    "\n",
    "for line in data_raw:\n",
    "    numString = list(line)\n",
    "    #print(line[0])\n",
    "    data.append(numString[:-1])\n",
    "\n",
    "for i in range(len(data)):\n",
    "    for j in range(len(data[i])):\n",
    "        if data[i][j]=='+':\n",
    "            data[i][j]=1\n",
    "        else:\n",
    "            data[i][j]=-1\n",
    "\n",
    "size = len(data[0])\n",
    "test_L = int(len(data)*test_percent/100)\n",
    "train = data[:-test_L]\n",
    "test = data[test_L:]\n",
    "\n",
    "js = np.random.rand(len(data),size)\n",
    "for i in range(len(js)):\n",
    "    for j in range(len(js[i])):\n",
    "        if js[i][j]>=0.5:\n",
    "            js[i][j]=1\n",
    "        else:\n",
    "            js[i][j]=-1\n",
    "\n",
    "lamb = np.random.rand(size)\n",
    "for i in range(size):\n",
    "    if lamb[i]>=0.5:\n",
    "        lamb[i]=1\n",
    "    else:\n",
    "        lamb[i]=-1"
   ]
  },
  {
   "cell_type": "code",
   "execution_count": 52,
   "metadata": {},
   "outputs": [],
   "source": [
    "Z = 2**size\n",
    "\n",
    "js = []\n",
    "s_i = np.random.rand(size)\n",
    "for i in range(size):\n",
    "    if s_i[i]>=0.5:\n",
    "        s_i[i]=1\n",
    "    else:\n",
    "        s_i[i]=-1\n",
    "js.append(s_i)"
   ]
  },
  {
   "cell_type": "code",
   "execution_count": 53,
   "metadata": {},
   "outputs": [],
   "source": [
    "def MC(s_i): #Markov chain Monte Carlo\n",
    "    #randomly generate state\n",
    "    s_j = np.random.rand(size)\n",
    "    for i in range(size):\n",
    "        if s_j[i]>=0.5:\n",
    "            s_j[i]=1\n",
    "        else:\n",
    "            s_j[i]=-1\n",
    "    #calculate energy of initial state\n",
    "    E_i = Energy(s_i)\n",
    "    #calculate energy of randomly generated state\n",
    "    E_j = Energy(s_j)\n",
    "    #check for usable value\n",
    "    if E_j<E_i:\n",
    "        js.append(s_j)\n",
    "        s_i = s_j\n",
    "    else:\n",
    "        threshold = exp(E_i-E_j)\n",
    "        rando = random.uniform(0,1)\n",
    "        if rando<threshold:\n",
    "            js.append(s_j)\n",
    "            s_i = s_j\n",
    "        else:\n",
    "            MC(s_i)\n",
    "        \n",
    "def Energy(s):#calculate the energy of a state\n",
    "    E = 0\n",
    "    for i in range(size):\n",
    "        if i!=(size-1):\n",
    "            E+=lamb*s[i]*s[i+1]\n",
    "        else:\n",
    "            E+=lamb*s[i]*s[0]\n",
    "    return -E"
   ]
  },
  {
   "cell_type": "code",
   "execution_count": 54,
   "metadata": {},
   "outputs": [],
   "source": [
    "class Net(nn.Module):\n",
    "    def __init__(self):\n",
    "        super(Net, self).__init__() \n",
    "        self.conv1= nn.Conv1d(size,size,size)\n",
    "        self.fc1= nn.Linear(size, size)\n",
    "        \n",
    "    def forward(self, x):\n",
    "        y = func.relu(self.conv1(x))\n",
    "        y = func.max_pool1d(self.lin(h))\n",
    "        return y\n",
    "    \n",
    "    def reset(self):\n",
    "        self.conv1.reset_parameters()\n",
    "        self.fc1.reset_parameters()"
   ]
  },
  {
   "cell_type": "code",
   "execution_count": 55,
   "metadata": {},
   "outputs": [],
   "source": [
    "model = Net().to(torch.device(\"cpu\"))\n",
    "optimizer = optim.SGD(model.parameters(), lr=learning_rate)\n",
    "loss = nn.NLLLoss(reduction='mean')"
   ]
  },
  {
   "cell_type": "code",
   "execution_count": 57,
   "metadata": {},
   "outputs": [
    {
     "ename": "TypeError",
     "evalue": "'int' object is not callable",
     "output_type": "error",
     "traceback": [
      "\u001b[1;31m---------------------------------------------------------------------------\u001b[0m",
      "\u001b[1;31mTypeError\u001b[0m                                 Traceback (most recent call last)",
      "\u001b[1;32m<ipython-input-57-878fa6a07d30>\u001b[0m in \u001b[0;36m<module>\u001b[1;34m\u001b[0m\n\u001b[0;32m     11\u001b[0m     \u001b[0mcorrect\u001b[0m \u001b[1;33m=\u001b[0m \u001b[1;36m0\u001b[0m\u001b[1;33m\u001b[0m\u001b[1;33m\u001b[0m\u001b[0m\n\u001b[0;32m     12\u001b[0m     \u001b[0mtemp_vals\u001b[0m\u001b[1;33m=\u001b[0m \u001b[1;33m[\u001b[0m\u001b[1;33m]\u001b[0m\u001b[1;33m\u001b[0m\u001b[1;33m\u001b[0m\u001b[0m\n\u001b[1;32m---> 13\u001b[1;33m     \u001b[0mb\u001b[0m \u001b[1;33m=\u001b[0m \u001b[0mbatch\u001b[0m\u001b[1;33m(\u001b[0m\u001b[0mtrain\u001b[0m\u001b[1;33m,\u001b[0m \u001b[0mbatch_size\u001b[0m\u001b[1;33m)\u001b[0m\u001b[1;33m\u001b[0m\u001b[1;33m\u001b[0m\u001b[0m\n\u001b[0m\u001b[0;32m     14\u001b[0m     \u001b[1;32mfor\u001b[0m \u001b[0mbatch_index\u001b[0m \u001b[1;32min\u001b[0m \u001b[0mb\u001b[0m\u001b[1;33m:\u001b[0m\u001b[1;33m\u001b[0m\u001b[1;33m\u001b[0m\u001b[0m\n\u001b[0;32m     15\u001b[0m         \u001b[0mx_t\u001b[0m \u001b[1;33m=\u001b[0m \u001b[0mbatch_index\u001b[0m\u001b[1;33m[\u001b[0m\u001b[1;33m:\u001b[0m\u001b[1;33m,\u001b[0m\u001b[1;33m:\u001b[0m\u001b[1;33m-\u001b[0m\u001b[1;36m1\u001b[0m\u001b[1;33m]\u001b[0m\u001b[1;33m\u001b[0m\u001b[1;33m\u001b[0m\u001b[0m\n",
      "\u001b[1;31mTypeError\u001b[0m: 'int' object is not callable"
     ]
    }
   ],
   "source": [
    "obj_vals= []\n",
    "obj_accs= []\n",
    "cross_vals= []\n",
    "cross_accs= []\n",
    "\n",
    "model.reset()\n",
    "\n",
    "for epoch in range(epochs):\n",
    "    #Training\n",
    "    batch_index = 0\n",
    "    correct = 0\n",
    "    temp_vals= []\n",
    "    for batch_index in batch(train, batch_size):\n",
    "        x_t = batch_index[:,:-1]\n",
    "        y_t = batch_index[:,-1]\n",
    "        x_t = np.array(x_t, dtype = np.float32)\n",
    "        inputs = torch.from_numpy(x_t)\n",
    "        targets = torch.from_numpy(y_t)\n",
    "        targets = targets.type(torch.LongTensor)\n",
    "        \n",
    "        temp_val = 10**(loss(model.forward(inputs), targets))\n",
    "\n",
    "        optimizer.zero_grad()\n",
    "        temp_val.backward()\n",
    "        optimizer.step()\n",
    "\n",
    "        temp_vals.append(temp_val.item())\n",
    "        output = torch.max(model(inputs), dim=1)[1].squeeze()\n",
    "        correct += (output == targets).float().sum()\n",
    "        \n",
    "    obj_val = np.average(temp_vals)\n",
    "    obj_vals.append(obj_val.item())\n",
    "    obj_accs.append(100*correct/len(train))\n",
    "\n",
    "    if (epoch+1) % display_epochs == 0:\n",
    "        print ('Epoch [{}/{}]\\t Training Loss: {:.4f}'.format(epoch+1, epochs, obj_val.item()))\n",
    "        print ('Epoch [{}/{}]\\t Training Accuracy: {:.4f}%'.format(epoch+1, epochs, obj_accs[-1]))\n",
    "\n",
    "    #Checking loss at each step to compare\n",
    "    with torch.no_grad(): \n",
    "        correct_c = 0\n",
    "        # don't track calculations in the following scope for the purposes of gradients\n",
    "        inputs = torch.from_numpy(x_test)\n",
    "        targets = torch.from_numpy(y_test)\n",
    "        targets = targets.type(torch.LongTensor)\n",
    "        cross_val = 10**(loss(model.forward(inputs), targets))\n",
    "        output_c = torch.max(model(inputs), dim=1)[1].squeeze()\n",
    "        correct_c += (output_c == targets).float().sum()\n",
    "        cross_vals.append(cross_val)\n",
    "        cross_accs.append(100*correct_c/len(test))\n",
    "\n",
    "    if (epoch+1) % display_epochs == 0:\n",
    "        print ('Epoch [{}/{}]\\t Test Loss: {:.4f}'.format(epoch+1, epochs, cross_val.item()))\n",
    "        print ('Epoch [{}/{}]\\t Test Accuracy: {:.4f}% \\n'.format(epoch+1, epochs, cross_accs[-1]))\n",
    "\n",
    "print('\\n~~~~~~~~~~~~~~~~~~PERFORMANCE REPORT~~~~~~~~~~~~~~~~~~')\n",
    "print('Final training performance: \\n Loss: {:.4f} \\t Accuracy: {:0.2f}%'.format(obj_vals[-1],obj_accs[-1]))\n",
    "print('Final testing performance: \\n Loss: {:.4f} \\t Accuracy: {:0.2f}%'.format(cross_vals[-1],cross_accs[-1]))"
   ]
  },
  {
   "cell_type": "code",
   "execution_count": null,
   "metadata": {},
   "outputs": [],
   "source": []
  }
 ],
 "metadata": {
  "kernelspec": {
   "display_name": "Python 3",
   "language": "python",
   "name": "python3"
  },
  "language_info": {
   "codemirror_mode": {
    "name": "ipython",
    "version": 3
   },
   "file_extension": ".py",
   "mimetype": "text/x-python",
   "name": "python",
   "nbconvert_exporter": "python",
   "pygments_lexer": "ipython3",
   "version": "3.8.3"
  }
 },
 "nbformat": 4,
 "nbformat_minor": 4
}
