{
 "cells": [
  {
   "cell_type": "code",
   "execution_count": 1,
   "metadata": {},
   "outputs": [],
   "source": [
    "import numpy as np"
   ]
  },
  {
   "cell_type": "code",
   "execution_count": 2,
   "metadata": {},
   "outputs": [],
   "source": [
    "n_training_data = int(2e2)\n",
    "n_bits = 8"
   ]
  },
  {
   "cell_type": "code",
   "execution_count": 5,
   "metadata": {},
   "outputs": [],
   "source": [
    "x_train = np.random.randint(2, size = (n_training_data, n_bits))\n",
    "x_train = np.array(x_train, dtype = np.float32)\n",
    "y_train = np.array([np.sum(x) % 2 for x in x_train], dtype = np.float32)\n",
    "\n",
    "# Float32: Pytorch gives preference for this type instead of Float64 (I believe Float32 is optimal for GPUs...)"
   ]
  },
  {
   "cell_type": "code",
   "execution_count": 8,
   "metadata": {},
   "outputs": [
    {
     "name": "stdout",
     "output_type": "stream",
     "text": [
      "[[1. 0. 0. 0. 0. 1. 1. 1.]\n",
      " [1. 0. 1. 1. 1. 0. 1. 0.]]\n",
      "[0. 1.]\n"
     ]
    }
   ],
   "source": [
    "print(x_train[0:2]) # first two entries\n",
    "print(y_train[0:2])"
   ]
  },
  {
   "cell_type": "code",
   "execution_count": 9,
   "metadata": {},
   "outputs": [],
   "source": [
    "import torch\n",
    "import torch.nn as nn # layer types\n",
    "import torch.nn.functional as func # useful ML functions (activations) that are applied to layers"
   ]
  },
  {
   "cell_type": "code",
   "execution_count": 10,
   "metadata": {},
   "outputs": [],
   "source": [
    "class Net(nn.Module):\n",
    "    def __init__(self):\n",
    "        super(Net, self).__init__() \n",
    "        # super gives access to attributes in a superclass from the subclass that inherits from it\n",
    "        self.fc1= nn.Linear(n_bits, 100)\n",
    "        self.fc2= nn.Linear(100, 1) \n",
    "\n",
    "    def forward(self, x):\n",
    "        h = func.relu(self.fc1(x))\n",
    "        y = torch.sigmoid(self.fc2(h)) # binary classification: sigmoid!\n",
    "        return y\n",
    "    \n",
    "    def reset(self):\n",
    "        self.fc1.reset_parameters()\n",
    "        self.fc2.reset_parameters()"
   ]
  },
  {
   "cell_type": "code",
   "execution_count": 11,
   "metadata": {},
   "outputs": [],
   "source": [
    "model = Net().to(torch.device(\"cpu\")) # inheritance!"
   ]
  },
  {
   "cell_type": "code",
   "execution_count": 12,
   "metadata": {},
   "outputs": [],
   "source": [
    "import torch.optim as optim\n",
    "learning_rate = 2e-1"
   ]
  },
  {
   "cell_type": "code",
   "execution_count": 13,
   "metadata": {},
   "outputs": [],
   "source": [
    "optimizer = optim.SGD(model.parameters(), lr=learning_rate) # not really going to do SGD..."
   ]
  },
  {
   "cell_type": "code",
   "execution_count": 14,
   "metadata": {},
   "outputs": [],
   "source": [
    "inputs = torch.from_numpy(x_train)"
   ]
  },
  {
   "cell_type": "code",
   "execution_count": 15,
   "metadata": {},
   "outputs": [
    {
     "name": "stdout",
     "output_type": "stream",
     "text": [
      "torch.Size([200])\n",
      "torch.Size([200, 1])\n"
     ]
    }
   ],
   "source": [
    "targets = torch.from_numpy(y_train) # need an extra \"superfluous\" dimension\n",
    "print(targets.size()) \n",
    "targets = torch.reshape(targets, (-1, 1))\n",
    "print(targets.size()) "
   ]
  },
  {
   "cell_type": "code",
   "execution_count": 16,
   "metadata": {},
   "outputs": [
    {
     "data": {
      "text/plain": [
       "torch.Size([200, 8])"
      ]
     },
     "execution_count": 16,
     "metadata": {},
     "output_type": "execute_result"
    }
   ],
   "source": [
    "inputs.size()"
   ]
  },
  {
   "cell_type": "code",
   "execution_count": 17,
   "metadata": {},
   "outputs": [
    {
     "data": {
      "text/plain": [
       "torch.Size([200, 1])"
      ]
     },
     "execution_count": 17,
     "metadata": {},
     "output_type": "execute_result"
    }
   ],
   "source": [
    "model.forward(inputs).size()"
   ]
  },
  {
   "cell_type": "code",
   "execution_count": 18,
   "metadata": {},
   "outputs": [
    {
     "data": {
      "text/plain": [
       "tensor(0.6913, grad_fn=<BinaryCrossEntropyBackward0>)"
      ]
     },
     "execution_count": 18,
     "metadata": {},
     "output_type": "execute_result"
    }
   ],
   "source": [
    "loss = torch.nn.BCELoss(reduction='mean')\n",
    "loss(model.forward(inputs), targets)"
   ]
  },
  {
   "cell_type": "code",
   "execution_count": 19,
   "metadata": {},
   "outputs": [],
   "source": [
    "num_epochs = int(1e4)\n",
    "display_epochs = int(1e3)"
   ]
  },
  {
   "cell_type": "code",
   "execution_count": 20,
   "metadata": {},
   "outputs": [
    {
     "name": "stdout",
     "output_type": "stream",
     "text": [
      "Epoch [1000/10000]\tLoss: 0.1886\n",
      "Epoch [2000/10000]\tLoss: 0.0333\n",
      "Epoch [3000/10000]\tLoss: 0.0145\n",
      "Epoch [4000/10000]\tLoss: 0.0085\n",
      "Epoch [5000/10000]\tLoss: 0.0058\n",
      "Epoch [6000/10000]\tLoss: 0.0044\n",
      "Epoch [7000/10000]\tLoss: 0.0034\n",
      "Epoch [8000/10000]\tLoss: 0.0028\n",
      "Epoch [9000/10000]\tLoss: 0.0024\n",
      "Epoch [10000/10000]\tLoss: 0.0020\n"
     ]
    }
   ],
   "source": [
    "obj_vals= []\n",
    "\n",
    "for epoch in range(num_epochs):   \n",
    "    obj_val = loss(model.forward(inputs), targets)\n",
    "    \n",
    "    optimizer.zero_grad() # clear any previous gradients\n",
    "    obj_val.backward() # backprop step, calculates gradient values\n",
    "    optimizer.step() # apply gradients to model parameters\n",
    "    \n",
    "    obj_vals.append(obj_val.item())\n",
    "    if (epoch+1) % display_epochs == 0:\n",
    "        print ('Epoch [{}/{}]\\tLoss: {:.4f}'.format(epoch+1, num_epochs, obj_val.item()))"
   ]
  },
  {
   "cell_type": "code",
   "execution_count": 22,
   "metadata": {},
   "outputs": [],
   "source": [
    "import matplotlib.pyplot as plt\n",
    "import seaborn as sns\n",
    "sns.set_style(\"darkgrid\")\n",
    "from jupyterthemes import jtplot\n",
    "jtplot.style(theme='monokai')"
   ]
  },
  {
   "cell_type": "code",
   "execution_count": 23,
   "metadata": {},
   "outputs": [
    {
     "data": {
      "text/plain": [
       "[<matplotlib.lines.Line2D at 0x7f65b84c61f0>]"
      ]
     },
     "execution_count": 23,
     "metadata": {},
     "output_type": "execute_result"
    },
    {
     "data": {
      "image/png": "[encoded data removed]",
      "text/plain": [
       "<Figure size 640x560 with 1 Axes>"
      ]
     },
     "metadata": {},
     "output_type": "display_data"
    }
   ],
   "source": [
    "plt.plot(range(num_epochs), obj_vals)"
   ]
  },
  {
   "cell_type": "code",
   "execution_count": 24,
   "metadata": {},
   "outputs": [
    {
     "name": "stdout",
     "output_type": "stream",
     "text": [
      "tensor(0.1544)\n"
     ]
    }
   ],
   "source": [
    "n_test_data = int(1e2)\n",
    "x_test = np.random.randint(2, size = (n_test_data, n_bits))\n",
    "x_test = np.array(x_test, dtype = np.float32)\n",
    "y_test = np.array([np.sum(x) % 2 for x in x_test], dtype = np.float32)\n",
    "\n",
    "with torch.no_grad():\n",
    "    inputs = torch.from_numpy(x_test)\n",
    "    targets = torch.from_numpy(y_test)\n",
    "    targets = torch.reshape(targets, (-1, 1))\n",
    "    cross_val = loss(model.forward(inputs), targets)\n",
    "    \n",
    "print(cross_val)"
   ]
  },
  {
   "cell_type": "code",
   "execution_count": 27,
   "metadata": {},
   "outputs": [
    {
     "name": "stdout",
     "output_type": "stream",
     "text": [
      "Epoch [1000/10000]\t Training Loss: 0.2309\n",
      "Epoch [1000/10000]\t Test Loss: 0.4607\n",
      "Epoch [2000/10000]\t Training Loss: 0.0404\n",
      "Epoch [2000/10000]\t Test Loss: 0.2461\n",
      "Epoch [3000/10000]\t Training Loss: 0.0176\n",
      "Epoch [3000/10000]\t Test Loss: 0.2336\n",
      "Epoch [4000/10000]\t Training Loss: 0.0105\n",
      "Epoch [4000/10000]\t Test Loss: 0.2359\n",
      "Epoch [5000/10000]\t Training Loss: 0.0072\n",
      "Epoch [5000/10000]\t Test Loss: 0.2413\n",
      "Epoch [6000/10000]\t Training Loss: 0.0054\n",
      "Epoch [6000/10000]\t Test Loss: 0.2470\n",
      "Epoch [7000/10000]\t Training Loss: 0.0042\n",
      "Epoch [7000/10000]\t Test Loss: 0.2524\n",
      "Epoch [8000/10000]\t Training Loss: 0.0035\n",
      "Epoch [8000/10000]\t Test Loss: 0.2567\n",
      "Epoch [9000/10000]\t Training Loss: 0.0029\n",
      "Epoch [9000/10000]\t Test Loss: 0.2608\n",
      "Epoch [10000/10000]\t Training Loss: 0.0025\n",
      "Epoch [10000/10000]\t Test Loss: 0.2644\n",
      "Final training loss: 0.0025\n",
      "Final test loss: 0.2644\n"
     ]
    }
   ],
   "source": [
    "obj_vals= []\n",
    "cross_vals= []\n",
    "\n",
    "model.reset() # reset your parameters\n",
    "\n",
    "for epoch in range(num_epochs):\n",
    "    inputs = torch.from_numpy(x_train)\n",
    "    targets = torch.from_numpy(y_train)\n",
    "    targets = torch.reshape(targets, (-1, 1))\n",
    "\n",
    "    obj_val = loss(model.forward(inputs), targets)\n",
    "    \n",
    "    optimizer.zero_grad()\n",
    "    obj_val.backward()\n",
    "    optimizer.step()\n",
    "    obj_vals.append(obj_val.item())\n",
    "\n",
    "    if (epoch+1) % display_epochs == 0:\n",
    "        print ('Epoch [{}/{}]\\t Training Loss: {:.4f}'.format(epoch+1, num_epochs, obj_val.item()))\n",
    "            \n",
    "    with torch.no_grad(): \n",
    "        # don't track calculations in the following scope for the purposes of gradients\n",
    "        inputs = torch.from_numpy(x_test)\n",
    "        targets = torch.from_numpy(y_test)\n",
    "        targets = torch.reshape(targets, (-1, 1))\n",
    "        cross_val = loss(model.forward(inputs), targets)\n",
    "        cross_vals.append(cross_val)\n",
    "\n",
    "    if (epoch+1) % display_epochs == 0:\n",
    "        print ('Epoch [{}/{}]\\t Test Loss: {:.4f}'.format(epoch+1, num_epochs, cross_val.item()))\n",
    "        \n",
    "print('Final training loss: {:.4f}'.format(obj_vals[-1]))\n",
    "print('Final test loss: {:.4f}'.format(cross_vals[-1]))"
   ]
  },
  {
   "cell_type": "code",
   "execution_count": 28,
   "metadata": {},
   "outputs": [
    {
     "data": {
      "text/plain": [
       "<matplotlib.legend.Legend at 0x7f65b5ab6c70>"
      ]
     },
     "execution_count": 28,
     "metadata": {},
     "output_type": "execute_result"
    },
    {
     "data": {
      "image/png": "[encoded data removed]",
      "text/plain": [
       "<Figure size 640x560 with 1 Axes>"
      ]
     },
     "metadata": {},
     "output_type": "display_data"
    }
   ],
   "source": [
    "plt.plot(range(num_epochs), obj_vals, label= \"Training loss\", color=\"orange\")\n",
    "plt.plot(range(num_epochs), cross_vals, label= \"Test loss\", color= \"green\")\n",
    "plt.legend()"
   ]
  },
  {
   "cell_type": "code",
   "execution_count": null,
   "metadata": {},
   "outputs": [],
   "source": []
  }
 ],
 "metadata": {
  "kernelspec": {
   "display_name": "Python 3",
   "language": "python",
   "name": "python3"
  },
  "language_info": {
   "codemirror_mode": {
    "name": "ipython",
    "version": 3
   },
   "file_extension": ".py",
   "mimetype": "text/x-python",
   "name": "python",
   "nbconvert_exporter": "python",
   "pygments_lexer": "ipython3",
   "version": "3.8.3"
  },
  "vscode": {
   "interpreter": {
    "hash": "916dbcbb3f70747c44a77c7bcd40155683ae19c65e1c03b4aa3499c5328201f1"
   }
  }
 },
 "nbformat": 4,
 "nbformat_minor": 2
}
