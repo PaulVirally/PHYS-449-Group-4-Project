{
 "cells": [
  {
   "cell_type": "code",
   "execution_count": 1099,
   "metadata": {},
   "outputs": [],
   "source": [
    "import numpy as np\n",
    "import torch, argparse, json\n",
    "import torch.nn as nn # layer types\n",
    "import torch.nn.functional as func # useful ML functions (activations) that are applied to layers\n",
    "import torch.optim as optim\n",
    "import matplotlib.pyplot as plt\n",
    "\n",
    "#hypers = learning_rate, num_epochs, display_epochs, batch_size, nhidden\n",
    "learning_rate = 1e-2\n",
    "num_epochs = 20\n",
    "display_epochs = num_epochs/5\n",
    "batch_size = 500\n",
    "nhidden = 100"
   ]
  },
  {
   "cell_type": "code",
   "execution_count": 1100,
   "metadata": {},
   "outputs": [],
   "source": [
    "n_bits = 14*14\n",
    "data = np.loadtxt(fname=\"inputs\\even_mnist.csv\")\n",
    "train = data[:-3000]\n",
    "test = data[-3000:]\n",
    "#x_train = data[:-3000,:-1]\n",
    "x_train = train[:batch_size,:-1]\n",
    "x_train = np.array(x_train, dtype = np.float32)\n",
    "#y_train = data[:-3000,-1]\n",
    "y_train = train[:batch_size,-1]\n",
    "#print(x_train)\n",
    "#print(y_train)\n",
    "x_test = data[-3000:,:-1]\n",
    "x_test = np.array(x_test, dtype = np.float32)\n",
    "y_test = data[-3000:,-1]\n",
    "#print('\\n\\n',x_test)\n",
    "#print(y_test)\n",
    "\n",
    "#print('\\n\\n',len(x_train))\n",
    "#print(len(y_train))\n",
    "#print(len(x_test))\n",
    "#print(len(y_test))"
   ]
  },
  {
   "cell_type": "code",
   "execution_count": 1101,
   "metadata": {},
   "outputs": [],
   "source": [
    "class Net(nn.Module):\n",
    "    def __init__(self):\n",
    "        super(Net, self).__init__() \n",
    "        # super gives access to attributes in a superclass from the subclass that inherits from it\n",
    "        self.fc1= nn.Linear(n_bits, nhidden)\n",
    "        #layer 1 (input set, hidden layer bits)\n",
    "        self.fc2= nn.Linear(nhidden, 10) \n",
    "        #layer 2 (hidden, final y output)\n",
    "    #forward pass through layers\n",
    "    def forward(self, x):\n",
    "        h = func.relu(self.fc1(x))\n",
    "        #h is output from first layer from input x\n",
    "        y = func.softmax(self.fc2(h), dim=1) #dim=0 or 1?\n",
    "        return y\n",
    "    \n",
    "    #clears parameters so code can be run again?\n",
    "    def reset(self):\n",
    "        self.fc1.reset_parameters()\n",
    "        self.fc2.reset_parameters()"
   ]
  },
  {
   "cell_type": "code",
   "execution_count": 1102,
   "metadata": {},
   "outputs": [],
   "source": [
    "model = Net().to(torch.device(\"cpu\")) # inheritance!"
   ]
  },
  {
   "cell_type": "code",
   "execution_count": 1103,
   "metadata": {},
   "outputs": [],
   "source": [
    "optimizer = optim.SGD(model.parameters(), lr=learning_rate) # not really going to do SGD...\n",
    "#model.parameters is created from nn.Module in Net class inheritance"
   ]
  },
  {
   "cell_type": "code",
   "execution_count": 1104,
   "metadata": {},
   "outputs": [],
   "source": [
    "inputs = torch.from_numpy(x_train) #[:batch_size,:]\n",
    "#print(inputs)\n",
    "# #changes inputs to pytorch tensers"
   ]
  },
  {
   "cell_type": "code",
   "execution_count": 1105,
   "metadata": {},
   "outputs": [],
   "source": [
    "targets = torch.from_numpy(y_train) # need an extra \"superfluous\" dimension // [:batch_size]\n",
    "targets = targets.type(torch.LongTensor)\n",
    "#print(targets)\n",
    "# print(targets.size()) \n",
    "# #targets = torch.reshape(targets, (-1, 1))\n",
    "# #print(targets.size()) \n",
    "# #need to reshape since pytorch has trouble with it (200 data sets printing 1 output each)"
   ]
  },
  {
   "cell_type": "code",
   "execution_count": 1106,
   "metadata": {},
   "outputs": [],
   "source": [
    "# inputs.size()"
   ]
  },
  {
   "cell_type": "code",
   "execution_count": 1107,
   "metadata": {},
   "outputs": [],
   "source": [
    "# model.forward(inputs).size()"
   ]
  },
  {
   "cell_type": "code",
   "execution_count": 1108,
   "metadata": {},
   "outputs": [
    {
     "data": {
      "text/plain": [
       "tensor(-0.0391, grad_fn=<NllLossBackward>)"
      ]
     },
     "execution_count": 1108,
     "metadata": {},
     "output_type": "execute_result"
    }
   ],
   "source": [
    "loss = nn.NLLLoss(reduction='mean') #negative log likelyhood\n",
    "loss(model.forward(inputs), targets)\n",
    "#compares calculated y vals with provided to find difference?\n",
    "#targets = targets.type(torch.LongTensor)"
   ]
  },
  {
   "cell_type": "code",
   "execution_count": 1109,
   "metadata": {},
   "outputs": [],
   "source": [
    "# obj_vals= []\n",
    "\n",
    "# for epoch in range(num_epochs):   \n",
    "#     obj_val = loss(model.forward(inputs), targets)\n",
    "    \n",
    "#     optimizer.zero_grad() # clear any previous gradients\n",
    "#     obj_val.backward() # backprop step, calculates gradient values\n",
    "#     optimizer.step() # apply gradients to model parameters\n",
    "    \n",
    "#     obj_vals.append(obj_val.item()) #adds loss val to list\n",
    "#     if (epoch+1) % display_epochs == 0:\n",
    "#         print ('Epoch [{}/{}]\\tLoss: {:.4f}'.format(epoch+1, num_epochs, obj_val.item()))"
   ]
  },
  {
   "cell_type": "code",
   "execution_count": 1110,
   "metadata": {},
   "outputs": [],
   "source": [
    "# plt.plot(range(num_epochs), obj_vals)"
   ]
  },
  {
   "cell_type": "code",
   "execution_count": 1111,
   "metadata": {},
   "outputs": [],
   "source": [
    "# #testing model on new dataset (made the same way)\n",
    "# #set aside some of the original data to use for this in the assignment\n",
    "\n",
    "# with torch.no_grad():\n",
    "#     inputs = torch.from_numpy(x_test)\n",
    "#     targets = torch.from_numpy(y_test)\n",
    "#     targets = targets.type(torch.LongTensor)\n",
    "#     #targets = torch.reshape(targets, (-1, 1))\n",
    "#     print(inputs.size())\n",
    "#     print(targets.size())\n",
    "#     cross_val = loss(model.forward(inputs), targets)\n",
    "    \n",
    "# print(cross_val)\n",
    "# #test data performance is expected to be worse than training data performance"
   ]
  },
  {
   "cell_type": "code",
   "execution_count": 1112,
   "metadata": {},
   "outputs": [],
   "source": [
    "def batch(iterable, n=1):\n",
    "    l = len(iterable)\n",
    "    for ndx in range(0, l, n):\n",
    "        yield iterable[ndx:min(ndx + n, l)]"
   ]
  },
  {
   "cell_type": "code",
   "execution_count": 1113,
   "metadata": {},
   "outputs": [
    {
     "name": "stdout",
     "output_type": "stream",
     "text": [
      "Epoch [4/20]\t Training Loss: 0.2808\n",
      "Epoch [4/20]\t Training Accuracy: 55.7527%\n",
      "Epoch [4/20]\t Test Loss: 0.2657\n",
      "Epoch [4/20]\t Test Accuracy: 57.6667% \n",
      "\n",
      "Epoch [8/20]\t Training Loss: 0.2696\n",
      "Epoch [8/20]\t Training Accuracy: 57.3003%\n",
      "Epoch [8/20]\t Test Loss: 0.2609\n",
      "Epoch [8/20]\t Test Accuracy: 58.3000% \n",
      "\n",
      "Epoch [12/20]\t Training Loss: 0.2665\n",
      "Epoch [12/20]\t Training Accuracy: 57.6816%\n",
      "Epoch [12/20]\t Test Loss: 0.2589\n",
      "Epoch [12/20]\t Test Accuracy: 58.7000% \n",
      "\n",
      "Epoch [16/20]\t Training Loss: 0.2646\n",
      "Epoch [16/20]\t Training Accuracy: 57.9420%\n",
      "Epoch [16/20]\t Test Loss: 0.2579\n",
      "Epoch [16/20]\t Test Accuracy: 58.8333% \n",
      "\n",
      "Epoch [20/20]\t Training Loss: 0.2633\n",
      "Epoch [20/20]\t Training Accuracy: 58.1383%\n",
      "Epoch [20/20]\t Test Loss: 0.2570\n",
      "Epoch [20/20]\t Test Accuracy: 59.0333% \n",
      "\n",
      "\n",
      "~~~~~~~~~~~~~~~~~~PERFORMANCE REPORT~~~~~~~~~~~~~~~~~~\n",
      "Final training performance: \n",
      " Loss: 0.2633 \t Accuracy: 58.14%\n",
      "Final testing performance: \n",
      " Loss: 0.2570 \t Accuracy: 59.03%\n"
     ]
    }
   ],
   "source": [
    "#train and test in one loop\n",
    "obj_vals= []\n",
    "obj_accs= []\n",
    "cross_vals= []\n",
    "cross_accs= []\n",
    "\n",
    "model.reset() # reset your parameters\n",
    "\n",
    "for epoch in range(num_epochs):\n",
    "    #Training\n",
    "    batch_index = 0\n",
    "    correct = 0\n",
    "    #next_batch = batch_index + batch_size\n",
    "    temp_vals= []\n",
    "    for batch_index in batch(train, batch_size):\n",
    "    #while next_batch<len(train):\n",
    "        #print(batch_index)\n",
    "        #x_t = train[batch_index:next_batch,:-1]\n",
    "        #y_t = train[batch_index:next_batch,-1]\n",
    "        x_t = batch_index[:,:-1]\n",
    "        y_t = batch_index[:,-1]\n",
    "        x_t = np.array(x_t, dtype = np.float32)\n",
    "        inputs = torch.from_numpy(x_t)\n",
    "        targets = torch.from_numpy(y_t)\n",
    "        #inputs = torch.from_numpy(x_train)\n",
    "        #targets = torch.from_numpy(y_train)\n",
    "        #print(targets)\n",
    "        targets = targets.type(torch.LongTensor)\n",
    "        #targets = torch.reshape(targets, (-1, 1))\n",
    "        \n",
    "        temp_val = 10**(loss(model.forward(inputs), targets))\n",
    "        #print(model(inputs))\n",
    "\n",
    "        optimizer.zero_grad()\n",
    "        temp_val.backward()\n",
    "        optimizer.step()\n",
    "\n",
    "        #obj_acc = (model.forward(inputs)==targets).float().sum()\n",
    "        #obj_acc = 100*loss(model.forward(inputs)/targets)\n",
    "\n",
    "        temp_vals.append(temp_val.item())\n",
    "        #obj_accs.append(obj_accs.item())\n",
    "        output = torch.max(model(inputs), dim=1)[1].squeeze()\n",
    "        correct += (output == targets).float().sum()\n",
    "        #print(output.indices)\n",
    "        #if output == targets:\n",
    "        #    correct += 1\n",
    "        #    print(\"aye\")\n",
    "        \n",
    "    obj_val = np.average(temp_vals)\n",
    "    obj_vals.append(obj_val.item())\n",
    "    obj_accs.append(100*correct/len(train))\n",
    "\n",
    "    if (epoch+1) % display_epochs == 0:\n",
    "        print ('Epoch [{}/{}]\\t Training Loss: {:.4f}'.format(epoch+1, num_epochs, obj_val.item()))\n",
    "        print ('Epoch [{}/{}]\\t Training Accuracy: {:.4f}%'.format(epoch+1, num_epochs, obj_accs[-1]))\n",
    "\n",
    "    #Checking loss at each step to compare\n",
    "    with torch.no_grad(): \n",
    "        correct_c = 0\n",
    "        # don't track calculations in the following scope for the purposes of gradients\n",
    "        inputs = torch.from_numpy(x_test)\n",
    "        targets = torch.from_numpy(y_test)\n",
    "        targets = targets.type(torch.LongTensor)\n",
    "        #targets = torch.reshape(targets, (-1, 1))\n",
    "        cross_val = 10**(loss(model.forward(inputs), targets))\n",
    "        output_c = torch.max(model(inputs), dim=1)[1].squeeze()\n",
    "        correct_c += (output_c == targets).float().sum()\n",
    "        cross_vals.append(cross_val)\n",
    "        cross_accs.append(100*correct_c/len(test))\n",
    "\n",
    "    if (epoch+1) % display_epochs == 0:\n",
    "        print ('Epoch [{}/{}]\\t Test Loss: {:.4f}'.format(epoch+1, num_epochs, cross_val.item()))\n",
    "        print ('Epoch [{}/{}]\\t Test Accuracy: {:.4f}% \\n'.format(epoch+1, num_epochs, cross_accs[-1]))\n",
    "\n",
    "print('\\n~~~~~~~~~~~~~~~~~~PERFORMANCE REPORT~~~~~~~~~~~~~~~~~~')\n",
    "print('Final training performance: \\n Loss: {:.4f} \\t Accuracy: {:0.2f}%'.format(obj_vals[-1],obj_accs[-1]))\n",
    "print('Final testing performance: \\n Loss: {:.4f} \\t Accuracy: {:0.2f}%'.format(cross_vals[-1],cross_accs[-1]))"
   ]
  },
  {
   "cell_type": "code",
   "execution_count": 1114,
   "metadata": {},
   "outputs": [
    {
     "data": {
      "text/plain": [
       "<matplotlib.legend.Legend at 0x224d6b65ee0>"
      ]
     },
     "execution_count": 1114,
     "metadata": {},
     "output_type": "execute_result"
    },
    {
     "data": {
      "image/png": "[encoded data removed]",
      "text/plain": [
       "<Figure size 432x288 with 1 Axes>"
      ]
     },
     "metadata": {
      "needs_background": "light"
     },
     "output_type": "display_data"
    }
   ],
   "source": [
    "plt.plot(range(num_epochs), obj_vals, label= \"Training loss\", color=\"orange\")\n",
    "plt.plot(range(num_epochs), cross_vals, label= \"Test loss\", color= \"green\")\n",
    "plt.legend()\n",
    "\n",
    "#mess around with things to try and match test to training\n",
    "#assignment might ask for plot like this?"
   ]
  },
  {
   "cell_type": "code",
   "execution_count": null,
   "metadata": {},
   "outputs": [],
   "source": []
  },
  {
   "cell_type": "code",
   "execution_count": null,
   "metadata": {},
   "outputs": [],
   "source": []
  },
  {
   "cell_type": "code",
   "execution_count": null,
   "metadata": {},
   "outputs": [],
   "source": []
  }
 ],
 "metadata": {
  "kernelspec": {
   "display_name": "Python 3",
   "language": "python",
   "name": "python3"
  },
  "language_info": {
   "codemirror_mode": {
    "name": "ipython",
    "version": 3
   },
   "file_extension": ".py",
   "mimetype": "text/x-python",
   "name": "python",
   "nbconvert_exporter": "python",
   "pygments_lexer": "ipython3",
   "version": "3.8.3"
  }
 },
 "nbformat": 4,
 "nbformat_minor": 4
}
