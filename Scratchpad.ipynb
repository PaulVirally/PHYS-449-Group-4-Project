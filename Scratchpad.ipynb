{
 "cells": [
  {
   "cell_type": "code",
   "execution_count": 1,
   "id": "0d2e4195",
   "metadata": {
    "ExecuteTime": {
     "end_time": "2022-12-06T01:06:50.326163Z",
     "start_time": "2022-12-06T01:06:40.892790Z"
    }
   },
   "outputs": [],
   "source": [
    "from astropy.io import fits\n",
    "import astropy\n",
    "import numpy as np\n",
    "import matplotlib.pyplot as plt\n",
    "from jupyterthemes import jtplot\n",
    "\n",
    "jtplot.style()"
   ]
  },
  {
   "cell_type": "code",
   "execution_count": 2,
   "id": "2a8676ec",
   "metadata": {
    "ExecuteTime": {
     "end_time": "2022-12-06T01:06:50.371436Z",
     "start_time": "2022-12-06T01:06:50.350189Z"
    }
   },
   "outputs": [],
   "source": [
    "hdul_3fgl = fits.open('data/gll_psc_v16.fit')\n",
    "hdul_4fgl = fits.open('data/gll_psc_v27.fit')"
   ]
  },
  {
   "cell_type": "code",
   "execution_count": 3,
   "id": "2360ecaf",
   "metadata": {
    "ExecuteTime": {
     "end_time": "2022-12-06T01:06:51.615544Z",
     "start_time": "2022-12-06T01:06:50.379430Z"
    }
   },
   "outputs": [],
   "source": [
    "# The classes\n",
    "classes = hdul_3fgl[1].data['CLASS1']\n",
    "agn_classes = ['agn  ', 'FSRQ ', 'fsrq ', 'BLL  ', 'bll  ', 'BCU  ', 'bcu  ', 'RDG  ', 'rdg  ', 'NLSY1', 'nlsy1', 'ssrq ', 'sey  ']\n",
    "pulsar_classes = ['PSR  ', 'psr  ']\n",
    "no_class = '     '\n",
    "agn_mask = np.isin(classes, agn_classes)\n",
    "pulsar_mask = np.isin(classes, pulsar_classes)\n",
    "noclass_mask = classes == no_class\n",
    "bad_data_mask = hdul_3fgl[1].data['Signif_Curve'] == 0.0 # Causes ln(0.0)\n",
    "\n",
    "# The data, sorted by class\n",
    "pulsars = hdul_3fgl[1].data[pulsar_mask & ~bad_data_mask]\n",
    "agns = hdul_3fgl[1].data[agn_mask & ~bad_data_mask]\n",
    "data = hdul_3fgl[1].data[(agn_mask | pulsar_mask) & ~bad_data_mask] # data is both pulsars and AGNs"
   ]
  },
  {
   "cell_type": "code",
   "execution_count": 71,
   "id": "fa837699",
   "metadata": {
    "ExecuteTime": {
     "end_time": "2022-12-06T05:33:25.242512Z",
     "start_time": "2022-12-06T05:33:25.163108Z"
    }
   },
   "outputs": [],
   "source": [
    "# The 11 features used for the 3FGL catalog\n",
    "\n",
    "# The easy ones\n",
    "glat = data['GLAT']\n",
    "glon = data['GLON']\n",
    "ln_energy_flux100 = np.log(data['Energy_Flux100'])\n",
    "ln_unc_energy_flux100 = np.log(data['Unc_Energy_Flux100'])\n",
    "ln_signif_curve = np.log(data['Signif_Curve'])\n",
    "ln_var_index = np.log(data['Variability_Index'])\n",
    "\n",
    "# Hardness ratios\n",
    "ef1 = data['Flux100_300']\n",
    "ef2 = data['Flux300_1000']\n",
    "ef3 = data['Flux1000_3000']\n",
    "ef4 = data['Flux3000_10000']\n",
    "ef5 = data['Flux10000_100000']\n",
    "hr12 = (ef2 - ef1) / (ef2 + ef1)\n",
    "hr23 = (ef3 - ef2) / (ef3 + ef2)\n",
    "hr34 = (ef4 - ef3) / (ef4 + ef3)\n",
    "hr45 = (ef5 - ef4) / (ef5 + ef4)\n",
    "\n",
    "# 500 MeV index\n",
    "alpha = data['Spectral_Index']\n",
    "beta = data['beta']\n",
    "gamma = data['Spectral_Index']\n",
    "b = data['Exp_Index']\n",
    "E_c = data['Cutoff'] # In MeV\n",
    "E_0 = data['Pivot_Energy'] # In MeV\n",
    "mev_500_index = np.zeros(data.shape)\n",
    "for i, point in enumerate(data):\n",
    "    if point['SpectrumType'] in ['PowerLaw', 'PLExpCutoff', 'PLSuperExpCutoff']:\n",
    "        if b[i] == float('-inf'):\n",
    "            b[i] = 1\n",
    "        mev_500_index[i] = gamma[i] + b[i] * (500 / E_c[i])**b[i]\n",
    "    else:\n",
    "        mev_500_index[i] = alpha[i] + 2*beta[i] * np.log(500 / E_0[i])"
   ]
  }
 ],
 "metadata": {
  "kernelspec": {
   "display_name": "Python 3 (ipykernel)",
   "language": "python",
   "name": "python3"
  },
  "language_info": {
   "codemirror_mode": {
    "name": "ipython",
    "version": 3
   },
   "file_extension": ".py",
   "mimetype": "text/x-python",
   "name": "python",
   "nbconvert_exporter": "python",
   "pygments_lexer": "ipython3",
   "version": "3.10.8"
  },
  "latex_envs": {
   "LaTeX_envs_menu_present": true,
   "autoclose": true,
   "autocomplete": true,
   "bibliofile": "biblio.bib",
   "cite_by": "apalike",
   "current_citInitial": 1,
   "eqLabelWithNumbers": true,
   "eqNumInitial": 1,
   "hotkeys": {
    "equation": "Ctrl-E",
    "itemize": "Ctrl-I"
   },
   "labels_anchors": false,
   "latex_user_defs": false,
   "report_style_numbering": false,
   "user_envs_cfg": false
  }
 },
 "nbformat": 4,
 "nbformat_minor": 5
}
